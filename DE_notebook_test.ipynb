{
 "cells": [
  {
   "cell_type": "code",
   "execution_count": 1,
   "metadata": {},
   "outputs": [],
   "source": [
    "from utils.spark_util import read_config, Connector"
   ]
  },
  {
   "cell_type": "code",
   "execution_count": 2,
   "metadata": {},
   "outputs": [],
   "source": [
    "config = read_config(\"config.yml\")['azure']"
   ]
  },
  {
   "cell_type": "code",
   "execution_count": 3,
   "metadata": {},
   "outputs": [
    {
     "name": "stderr",
     "output_type": "stream",
     "text": [
      "22/04/19 13:43:11 WARN NativeCodeLoader: Unable to load native-hadoop library for your platform... using builtin-java classes where applicable\n",
      "Using Spark's default log4j profile: org/apache/spark/log4j-defaults.properties\n",
      "Setting default log level to \"WARN\".\n",
      "To adjust logging level use sc.setLogLevel(newLevel). For SparkR, use setLogLevel(newLevel).\n"
     ]
    }
   ],
   "source": [
    "session = Connector(config=config).get_session()"
   ]
  },
  {
   "cell_type": "code",
   "execution_count": 14,
   "metadata": {},
   "outputs": [
    {
     "name": "stderr",
     "output_type": "stream",
     "text": [
      "22/04/19 13:35:21 WARN SSLSocketFactoryEx: Failed to load OpenSSL. Falling back to the JSSE default.\n",
      "                                                                                \r"
     ]
    }
   ],
   "source": [
    "test_hot = session.read.format(\"csv\").options(header='true', inferschema='true').load(\n",
    "\t\"abfss://m06sparkbasics@bd201stacc.dfs.core.windows.net/hotels\"\n",
    ")"
   ]
  },
  {
   "cell_type": "code",
   "execution_count": 15,
   "metadata": {},
   "outputs": [
    {
     "name": "stdout",
     "output_type": "stream",
     "text": [
      "+------------+--------------------+-------+---------------+--------------------+----------+------------+\n",
      "|          Id|                Name|Country|           City|             Address|  Latitude|   Longitude|\n",
      "+------------+--------------------+-------+---------------+--------------------+----------+------------+\n",
      "|           2|Parkside Inn At I...|     US|Incline Village|1003 Tahoe Boulev...| 39.244493| -119.936437|\n",
      "|  8589934592|      Cadillac Motel|     US|     Brandywine|     16101 Crain Hwy|  38.66893|   -76.87629|\n",
      "| 17179869184|  Days Inn Brookings|     US|      Brookings|         2500 6th St|  44.31141|   -96.76286|\n",
      "| 17179869187|             Motel 6|     US|       Grayling|     6843 W M 72 Hwy| 44.657326|   -84.74439|\n",
      "| 25769803780|      Carleton Hotel|     US|       Carleton|       927 Monroe St|  42.05927|   -83.39095|\n",
      "| 42949672960|Americana Resort ...|     US|         Dillon|         135 Main St|      null|        null|\n",
      "| 42949672965|Comfort Inn Delan...|     US|         Deland|400 E Internation...| 29.054737|  -81.297208|\n",
      "| 51539607555|Magnuson Hotel Su...|     US|      Summerton|        18 Buff Blvd| 33.592181|  -80.356729|\n",
      "| 60129542147|Ubaa Old Crawford...|     US|    Des Plaines|     5460 N River Rd|      null|        null|\n",
      "| 68719476738|     Southside Motel|     US|   Tappahannock|     910 S Church Ln| 37.923133|  -76.859002|\n",
      "| 77309411332|     Hotel Metropole|     US| Lithia Springs|Riva Degli Schiav...|  45.43393|    12.34551|\n",
      "| 85899345921| Country Inns Suites|     US|      Watertown|    3400 8th Ave S E|  44.89151|   -97.06111|\n",
      "| 85899345924|The Parkview Memphis|     US|        Memphis|     1914 Poplar Ave| 35.142477|  -89.996546|\n",
      "|103079215104|Wisconsin-aire Motel|     US|    Random Lake|N535 State Highwa...|  43.55906|   -87.94045|\n",
      "|111669149696|      Comfort Suites|     US|        Houston|1055 E Mcnee Road...| 29.681085|  -95.402996|\n",
      "|111669149699|Holiday Inn Expre...|     US|   Port Clinton|   50 N E Catawba Rd|  41.52469|   -82.85883|\n",
      "|120259084290|            Days Inn|     US|    Santa Maria|       839 E Main St|  34.95311|  -120.42399|\n",
      "|128849018882|Sheraton Offenbac...|     US|     Northbrook|Berliner Strasse 111| 50.106529|    8.760921|\n",
      "|128849018885|Marriott's Mounta...|     US|      Park City|     1305 Lowell Ave|  40.65143|  -111.50604|\n",
      "|137438953472|The Citizen Hotel...|     US|     Sacramento|            926 J St|38.5802767|-121.4938057|\n",
      "+------------+--------------------+-------+---------------+--------------------+----------+------------+\n",
      "only showing top 20 rows\n",
      "\n"
     ]
    }
   ],
   "source": [
    "test_hot.show()"
   ]
  },
  {
   "cell_type": "code",
   "execution_count": null,
   "metadata": {},
   "outputs": [],
   "source": []
  }
 ],
 "metadata": {
  "interpreter": {
   "hash": "5344064c420850d8ec14e489e579c45e6407950750184a322c04d3bd1cf7e1ff"
  },
  "kernelspec": {
   "display_name": "Python 3.9.12 ('DEenv')",
   "language": "python",
   "name": "python3"
  },
  "language_info": {
   "codemirror_mode": {
    "name": "ipython",
    "version": 3
   },
   "file_extension": ".py",
   "mimetype": "text/x-python",
   "name": "python",
   "nbconvert_exporter": "python",
   "pygments_lexer": "ipython3",
   "version": "3.9.12"
  },
  "orig_nbformat": 4
 },
 "nbformat": 4,
 "nbformat_minor": 2
}
